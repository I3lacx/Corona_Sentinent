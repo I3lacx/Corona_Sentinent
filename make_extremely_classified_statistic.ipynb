{
 "cells": [
  {
   "cell_type": "code",
   "execution_count": 1,
   "metadata": {},
   "outputs": [],
   "source": [
    "# Must have imports\n",
    "import helper\n",
    "from analyzer import Analyzer, group_tweets_by_calendar_week\n",
    "from crawler import Crawler\n",
    "from plotter import Plotter\n",
    "from model import Vader\n",
    "\n",
    "# Extra imports\n",
    "import datetime\n",
    "import os\n",
    "import json"
   ]
  },
  {
   "cell_type": "code",
   "execution_count": 2,
   "metadata": {},
   "outputs": [],
   "source": [
    "config_dict = {\n",
    "\t\"user_auth\": False, # autheticate as user or application\n",
    "    \"search\": {\n",
    "        \"location\": \"darmstadt\",\t# based on helper.GEOCODES dictionary\n",
    "        \"radius\": 100, # optional default to 100\n",
    "        \"query\": ['der', \"die\", \"das\"], # query for searching (str array), either query or location has to be not empty\n",
    "        \"max_searches\": 1000, # Default: 1000 max amount of searches \n",
    "        \"num_results\": 1000, # number of results with defined filter options\n",
    "        \"rate_limit\": True,  # Default True: to turn off rate limit prints\n",
    "        \"filter\": { # Filter applies to search\n",
    "            \"not_reply\": False, # Filters for not replies when true, does nothing when false\n",
    "            \"not_retweet\": False, # Filters for not retweets when true, does nothing when false\n",
    "            \"until\": datetime.datetime(2020, 3, 1), # None or datetime (e.g. datetime.datetime(2020, 5, 20))\n",
    "        }\n",
    "    },\n",
    "\t\"get_user\": { # Optional, only when querying for users\n",
    "\t\t\"good_user\": False, # mandatory\n",
    "\t\t\"search_type\": \"recent_user\", # 'recent_user', 'recent_retweeted_user'\n",
    "\t\t\"num_users\": 10, # mandatory\n",
    "\t},\n",
    "\n",
    "\t\"plot\": {\n",
    "\t\t\"title\": \"To be set\",\n",
    "\t}\n",
    "}\n",
    "\n",
    "\n",
    "config = helper.init_config(config_dict)\n",
    "crawler = Crawler(config)\n",
    "vader_model = Vader()\n",
    "analyzer = Analyzer(config, vader_model)\n",
    "sentiment_pos_limit = 0.7\n",
    "sentiment_neg_limit = -0.7"
   ]
  },
  {
   "cell_type": "code",
   "execution_count": 4,
   "metadata": {},
   "outputs": [
    {
     "name": "stdout",
     "output_type": "stream",
     "text": [
      "remaining requests: 449\n",
      "tweets remaining: ~ 6735\n",
      "reset at: 2020-06-24 16:05:55\n",
      "reset in: 14:59\n"
     ]
    }
   ],
   "source": [
    "recent_users = crawler.get_recent_users()"
   ]
  },
  {
   "cell_type": "code",
   "execution_count": 5,
   "metadata": {},
   "outputs": [
    {
     "name": "stdout",
     "output_type": "stream",
     "text": [
      "Checked Tweets: 107\n",
      "remaining requests: 1494\n",
      "tweets remaining: ~ 22410\n",
      "reset at: 2020-06-24 16:05:59\n",
      "reset in: 14:56\n",
      "Checked Tweets: 546\n",
      "remaining requests: 1466\n",
      "tweets remaining: ~ 21990\n",
      "reset at: 2020-06-24 16:05:59\n",
      "reset in: 14:44\n",
      "Checked Tweets: 1000\n",
      "remaining requests: 1415\n",
      "tweets remaining: ~ 21225\n",
      "reset at: 2020-06-24 16:05:59\n",
      "reset in: 14:22\n",
      "Checked Tweets: 1000\n",
      "remaining requests: 1365\n",
      "tweets remaining: ~ 20475\n",
      "reset at: 2020-06-24 16:05:59\n",
      "reset in: 14:03\n",
      "Checked Tweets: 1000\n",
      "remaining requests: 1315\n",
      "tweets remaining: ~ 19725\n",
      "reset at: 2020-06-24 16:05:59\n",
      "reset in: 13:43\n",
      "Checked Tweets: 210\n",
      "remaining requests: 1303\n",
      "tweets remaining: ~ 19545\n",
      "reset at: 2020-06-24 16:05:59\n",
      "reset in: 13:39\n",
      "Checked Tweets: 1000\n",
      "remaining requests: 1253\n",
      "tweets remaining: ~ 18795\n",
      "reset at: 2020-06-24 16:05:59\n",
      "reset in: 13:19\n",
      "Checked Tweets: 1000\n",
      "remaining requests: 1203\n",
      "tweets remaining: ~ 18045\n",
      "reset at: 2020-06-24 16:05:59\n",
      "reset in: 12:56\n",
      "Checked Tweets: 238\n",
      "remaining requests: 1191\n",
      "tweets remaining: ~ 17865\n",
      "reset at: 2020-06-24 16:05:59\n",
      "reset in: 12:52\n",
      "Checked Tweets: 783\n",
      "remaining requests: 1151\n",
      "tweets remaining: ~ 17265\n",
      "reset at: 2020-06-24 16:05:59\n",
      "reset in: 12:36\n"
     ]
    }
   ],
   "source": [
    "tweets_of_recent_users = crawler.get_timeline_tweets_from_user_list(recent_users)"
   ]
  },
  {
   "cell_type": "code",
   "execution_count": 6,
   "metadata": {},
   "outputs": [],
   "source": [
    "flattened_tweet_list = [tweet for timeline in tweets_of_recent_users for tweet in timeline]"
   ]
  },
  {
   "cell_type": "code",
   "execution_count": 4,
   "metadata": {},
   "outputs": [
    {
     "name": "stderr",
     "output_type": "stream",
     "text": [
      "/home/nina/anaconda3/envs/code/lib/python3.8/site-packages/matplotlib/backends/backend_agg.py:211: RuntimeWarning: Glyph 9 missing from current font.\n",
      "  font.set_text(s, 0.0, flags=flags)\n",
      "/home/nina/anaconda3/envs/code/lib/python3.8/site-packages/matplotlib/backends/backend_agg.py:180: RuntimeWarning: Glyph 9 missing from current font.\n",
      "  font.set_text(s, 0, flags=flags)\n"
     ]
    },
    {
     "data": {
      "image/png": "[encoded data removed]",
      "text/plain": [
       "<Figure size 432x288 with 1 Axes>"
      ]
     },
     "metadata": {
      "needs_background": "light"
     },
     "output_type": "display_data"
    },
    {
     "data": {
      "image/png": "[encoded data removed]",
      "text/plain": [
       "<Figure size 432x288 with 1 Axes>"
      ]
     },
     "metadata": {
      "needs_background": "light"
     },
     "output_type": "display_data"
    }
   ],
   "source": [
    "analyzer.analyze_and_plot_sentiment_per_week(flattened_tweet_list, sentiment_pos_limit, sentiment_neg_limit)"
   ]
  }
 ],
 "metadata": {
  "kernelspec": {
   "display_name": "Python (code)",
   "language": "python",
   "name": "code"
  },
  "language_info": {
   "codemirror_mode": {
    "name": "ipython",
    "version": 3
   },
   "file_extension": ".py",
   "mimetype": "text/x-python",
   "name": "python",
   "nbconvert_exporter": "python",
   "pygments_lexer": "ipython3",
   "version": "3.8.2"
  }
 },
 "nbformat": 4,
 "nbformat_minor": 2
}
