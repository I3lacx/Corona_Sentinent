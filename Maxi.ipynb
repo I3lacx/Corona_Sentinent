{
 "cells": [
  {
   "cell_type": "code",
   "execution_count": 1,
   "metadata": {},
   "outputs": [
    {
     "data": {
      "text/plain": [
       "'\\nMaxis Notebook for testing\\n\\n'"
      ]
     },
     "execution_count": 1,
     "metadata": {},
     "output_type": "execute_result"
    }
   ],
   "source": [
    "\"\"\"\n",
    "Maxis Notebook for testing\n",
    "\n",
    "\"\"\""
   ]
  },
  {
   "cell_type": "code",
   "execution_count": 2,
   "metadata": {},
   "outputs": [],
   "source": [
    "# Must have imports\n",
    "import helper\n",
    "from analyzer import Analyzer\n",
    "from crawler import Crawler\n",
    "from plotter import Plotter\n",
    "from model import TextBlob, TrainedSentimentModel\n",
    "import tensorflow"
   ]
  },
  {
   "cell_type": "code",
   "execution_count": 5,
   "metadata": {},
   "outputs": [],
   "source": [
    "# Extra imports\n",
    "import datetime\n",
    "import numpy as np\n",
    "import tweepy"
   ]
  },
  {
   "cell_type": "code",
   "execution_count": 4,
   "metadata": {},
   "outputs": [],
   "source": [
    "# Sample Config\n",
    "config = {\n",
    "\t\"user_auth\": False, # autheticate as user or application\n",
    "    \"search\": {\n",
    "        \"location\": \"darmstadt\",\t# based on helper.GEOCODES dictionary\n",
    "        \"radius\": 100, # optional default to 100\n",
    "        \"query\": ['corona'], # query for searching (str array), either query or location has to be not empty\n",
    "        \"max_searches\": 22000, # Default: 1000 max amount of searches \n",
    "        \"num_results\": 22000, # number of results with defined filter options\n",
    "        \"rate_limit\": True,  # Default True: to turn off rate limit prints\n",
    "        \"filter\": { # Filter applies to search\n",
    "            \"not_reply\": True, # Filters for not replies when true, does nothing when false\n",
    "            \"not_retweet\": True, # Filters for not retweets when true, does nothing when false\n",
    "            \"until\": datetime.datetime(2020, 1, 1), # None or datetime (e.g. datetime.datetime(2020, 5, 20))\n",
    "        }\n",
    "    },\n",
    "\t\"get_user\": { # Optional, only when querying for users\n",
    "\t\t\"good_user\": False, # mandatory\n",
    "\t\t\"search_type\": \"recent_user\", # 'recent_user', 'recent_retweeted_user'\n",
    "\t\t\"num_users\": 5, # mandatory\n",
    "\t},\n",
    "\t\"plot\": {\n",
    "\t\t\"title\": \"Testing\",\n",
    "\t}\n",
    "    # Full search not tested and should only be used with caution!\n",
    "    \"full_search\": {\n",
    "        \"query\": \"#Corona lang:de\" # the query used for full search\n",
    "        \"env_name\": \"dev\", # your premium environment name\n",
    "        \"fromDate\": \"2020\" + \"01\" + \"15\" + \"1200\", # Format: YYYYMMDDHHmm\n",
    "        \"toDate\": \"2020\" + \"06\" + \"01\" + \"1200\"\n",
    "    }\n",
    "}\n"
   ]
  },
  {
   "cell_type": "code",
   "execution_count": 6,
   "metadata": {},
   "outputs": [],
   "source": [
    "# Load configs and init models\n",
    "config = helper.init_config(config)\n",
    "\n",
    "modl = TextBlob()\n",
    "modlUs = TrainedSentimentModel()\n",
    "\n",
    "craw = Crawler(config)\n",
    "anal = Analyzer(config, modlUs)\n",
    "plot = Plotter(config)"
   ]
  },
  {
   "cell_type": "code",
   "execution_count": 17,
   "metadata": {
    "scrolled": true
   },
   "outputs": [],
   "source": [
    "# Analyze user:\n",
    "# users = craw.get_users()\n",
    "# print(len(users))\n",
    "# user = craw.get_user_from_id(\"ZDFheute\")\n",
    "user = craw.get_user_from_id(\"BarackObama\")\n",
    "# tweets = craw.get_tweets()\n",
    "# tweets = craw.get_timeline(users[0])\n",
    "# len(tweets)"
   ]
  },
  {
   "cell_type": "code",
   "execution_count": 18,
   "metadata": {},
   "outputs": [
    {
     "name": "stdout",
     "output_type": "stream",
     "text": [
      "Search reached end point\n",
      "Checked Tweets: 142\n",
      "remaining requests: 1323\n",
      "tweets remaining: ~ 19845\n",
      "reset at: 2020-06-24 13:33:20\n",
      "reset in: 04:23\n",
      "BarackObama\n",
      "96\n"
     ]
    }
   ],
   "source": [
    "tweets = craw.get_timeline(user)\n",
    "print(user.screen_name)\n",
    "print(len(tweets))"
   ]
  },
  {
   "cell_type": "code",
   "execution_count": 20,
   "metadata": {},
   "outputs": [
    {
     "name": "stdout",
     "output_type": "stream",
     "text": [
      "BarackObama\n",
      "Barack Obama\n",
      "2020-01-01 17:16:44\n"
     ]
    }
   ],
   "source": [
    "print(user.screen_name)\n",
    "print(user.name)\n",
    "print(tweets[95].created_at)"
   ]
  },
  {
   "cell_type": "code",
   "execution_count": 42,
   "metadata": {},
   "outputs": [
    {
     "data": {
      "image/png": "[encoded data removed]",
      "text/plain": [
       "<Figure size 432x288 with 1 Axes>"
      ]
     },
     "metadata": {
      "needs_background": "light"
     },
     "output_type": "display_data"
    }
   ],
   "source": [
    "# res = anal.analyze_timeline(tweets)\n",
    "plot.simple_hist(res[\"ages\"][\"tweets_age\"])"
   ]
  },
  {
   "cell_type": "code",
   "execution_count": 7,
   "metadata": {},
   "outputs": [
    {
     "name": "stdout",
     "output_type": "stream",
     "text": [
      "Nach dreimonatiger #Corona-Pause dürfen deutsche \"Test-Touristen\" erstmals wieder nach #Mallorca reisen. Von Mitarb… https://t.co/BbfbSTD5t6\n",
      "In der Übergangsphase des #brexit wollen die EU und Großbritannien ein Handelspaket erarbeiten. Bei dem Gespräch zw… https://t.co/ekiRhMlb69\n",
      "In Brandenburg wird die AfD vom Verfassungsschutz beobachtet. Der Sommerurlaub in 27 Ländern ist jetzt möglich. Das… https://t.co/mePCBJO2AY\n",
      "Im weltweiten Rennen um einen #Impfstoff gegen das #Coronavirus steigt der Bund mit 300 Millioenen Euro beim deutsc… https://t.co/rKMYFYWIJy\n"
     ]
    }
   ],
   "source": [
    "filename = \"saved_data/recent_timeline_tweets_1000.json\"\n",
    "tweets = craw.load_tweet(filename)\n",
    "# craw.save_tweets(tweets, filename)\n",
    "print(tweets[0].text)\n",
    "print(tweets[1].text)\n",
    "print(tweets[2].text)\n",
    "print(tweets[3].text)"
   ]
  },
  {
   "cell_type": "code",
   "execution_count": null,
   "metadata": {},
   "outputs": [],
   "source": [
    "filename = \"saved_data/zdfheute_22000.json\"\n",
    "tweets = craw.load_tweet(filename)"
   ]
  },
  {
   "cell_type": "code",
   "execution_count": 10,
   "metadata": {
    "scrolled": true
   },
   "outputs": [],
   "source": [
    "res = anal.analyze_sentiment(tweets)\n",
    "res2 = anal.analyze_timeline(tweets)\n",
    "# plot.simple_hist(res[\"ages\"])"
   ]
  },
  {
   "cell_type": "code",
   "execution_count": 12,
   "metadata": {},
   "outputs": [
    {
     "data": {
      "text/plain": [
       "801"
      ]
     },
     "execution_count": 12,
     "metadata": {},
     "output_type": "execute_result"
    }
   ],
   "source": [
    "len(res2[\"ages\"][\"tweets_age\"])"
   ]
  },
  {
   "cell_type": "code",
   "execution_count": 23,
   "metadata": {},
   "outputs": [],
   "source": [
    "dataBlob = []\n",
    "fullSenti = []\n",
    "for tweet in tweets:\n",
    "    senti = modl.get_polarity_without_preprocessing(tweet.text)\n",
    "    fullSenti.append(senti)\n",
    "    # TODO kann man auch auslagern\n",
    "    # Beste Text Blob sentis: -0.7, 0.7\n",
    "    if senti > 0.7:\n",
    "        dataBlob.append('pos')\n",
    "    elif senti < -0.7:\n",
    "        dataBlob.append('neg')\n",
    "    else:\n",
    "        dataBlob.append('neut')"
   ]
  },
  {
   "cell_type": "code",
   "execution_count": 21,
   "metadata": {},
   "outputs": [],
   "source": [
    "dataUs = modlUs.get_sentiment_labels_batch([tweet.text for tweet in tweets])\n",
    "dataUs2 = modlUs.get_sentiment_label_without_preprocessing([tweet.text for tweet in tweets])"
   ]
  },
  {
   "cell_type": "code",
   "execution_count": 22,
   "metadata": {},
   "outputs": [
    {
     "data": {
      "image/png": "[encoded data removed]",
      "text/plain": [
       "<Figure size 432x288 with 1 Axes>"
      ]
     },
     "metadata": {
      "needs_background": "light"
     },
     "output_type": "display_data"
    }
   ],
   "source": [
    "plot.simple_hist(dataUs)"
   ]
  },
  {
   "cell_type": "code",
   "execution_count": 25,
   "metadata": {},
   "outputs": [
    {
     "data": {
      "image/png": "[encoded data removed]",
      "text/plain": [
       "<Figure size 432x288 with 1 Axes>"
      ]
     },
     "metadata": {
      "needs_background": "light"
     },
     "output_type": "display_data"
    }
   ],
   "source": [
    "plot.simple_hist(dataUs2)"
   ]
  },
  {
   "cell_type": "code",
   "execution_count": null,
   "metadata": {},
   "outputs": [],
   "source": []
  }
 ],
 "metadata": {
  "kernelspec": {
   "display_name": "Ethics",
   "language": "python",
   "name": "ethics"
  },
  "language_info": {
   "codemirror_mode": {
    "name": "ipython",
    "version": 3
   },
   "file_extension": ".py",
   "mimetype": "text/x-python",
   "name": "python",
   "nbconvert_exporter": "python",
   "pygments_lexer": "ipython3",
   "version": "3.8.2"
  }
 },
 "nbformat": 4,
 "nbformat_minor": 4
}
