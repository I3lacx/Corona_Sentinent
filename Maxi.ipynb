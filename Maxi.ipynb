{
 "cells": [
  {
   "cell_type": "code",
   "execution_count": 7,
   "metadata": {},
   "outputs": [
    {
     "data": {
      "text/plain": [
       "'\\nMaxis Notebook for testing\\n\\n'"
      ]
     },
     "execution_count": 7,
     "metadata": {},
     "output_type": "execute_result"
    }
   ],
   "source": [
    "\"\"\"\n",
    "Maxis Notebook for testing\n",
    "\n",
    "\"\"\""
   ]
  },
  {
   "cell_type": "code",
   "execution_count": 8,
   "metadata": {},
   "outputs": [],
   "source": [
    "# Must have imports\n",
    "import helper\n",
    "from analyzer import Analyzer\n",
    "from crawler import Crawler\n",
    "from plotter import Plotter\n",
    "from model import TextBlob, TrainedSentimentModel, Vader\n",
    "import tensorflow"
   ]
  },
  {
   "cell_type": "code",
   "execution_count": 9,
   "metadata": {},
   "outputs": [],
   "source": [
    "# Extra imports\n",
    "import datetime\n",
    "import numpy as np\n",
    "import tweepy"
   ]
  },
  {
   "cell_type": "code",
   "execution_count": 10,
   "metadata": {},
   "outputs": [],
   "source": [
    "# Sample Config\n",
    "config = {\n",
    "\t\"user_auth\": False, # autheticate as user or application\n",
    "    \"search\": {\n",
    "        \"location\": \"darmstadt\",\t# based on helper.GEOCODES dictionary\n",
    "        \"radius\": 100, # optional default to 100\n",
    "        \"query\": ['corona'], # query for searching (str array), either query or location has to be not empty\n",
    "        \"max_searches\": 5000, # Default: 1000 max amount of searches \n",
    "        \"num_results\": 5000, # number of results with defined filter options\n",
    "        \"rate_limit\": True,  # Default True: to turn off rate limit prints\n",
    "        \"filter\": { # Filter applies to search\n",
    "            \"not_reply\": True, # Filters for not replies when true, does nothing when false\n",
    "            \"not_retweet\": True, # Filters for not retweets when true, does nothing when false\n",
    "            \"until\": datetime.datetime(2020, 3, 1), # None or datetime (e.g. datetime.datetime(2020, 5, 20))\n",
    "        }\n",
    "    },\n",
    "\t\"get_user\": { # Optional, only when querying for users\n",
    "\t\t\"good_user\": True, # mandatory\n",
    "\t\t\"search_type\": \"recent_user\", # 'recent_user', 'recent_retweeted_user'\n",
    "\t\t\"num_users\": 100, # mandatory\n",
    "\t},\n",
    "\t\"plot\": {\n",
    "\t\t\"title\": \"Testing\",\n",
    "\t},\n",
    "    # Full search not tested and should only be used with caution!\n",
    "    \"full_search\": {\n",
    "        \"query\": \"#Corona lang:de\", # the query used for full search\n",
    "        \"env_name\": \"dev\", # your premium environment name\n",
    "        \"fromDate\": \"2020\" + \"01\" + \"15\" + \"1200\", # Format: YYYYMMDDHHmm\n",
    "        \"toDate\": \"2020\" + \"06\" + \"01\" + \"1200\"\n",
    "    }\n",
    "}\n"
   ]
  },
  {
   "cell_type": "code",
   "execution_count": 11,
   "metadata": {},
   "outputs": [],
   "source": [
    "# Load configs and init models\n",
    "config = helper.init_config(config)\n",
    "\n",
    "modl = TextBlob()\n",
    "modlUs = TrainedSentimentModel()\n",
    "vader_model = Vader()\n",
    "\n",
    "craw = Crawler(config)\n",
    "anal = Analyzer(config, vader_model)\n",
    "plot = Plotter(config)\n",
    "sentiment_pos_limit = 0.7\n",
    "sentiment_neg_limit = -0.7"
   ]
  },
  {
   "cell_type": "code",
   "execution_count": 12,
   "metadata": {
    "scrolled": true
   },
   "outputs": [
    {
     "name": "stdout",
     "output_type": "stream",
     "text": [
      "Cond 1: 5\n",
      "Cond 1: 46\n",
      "Cond 1: 26\n",
      "Cond 1: 19\n",
      "Cond 1: 52\n",
      "Cond 1: 60\n",
      "Cond 1: 46\n",
      "Cond 1: 12\n",
      "Cond 1: 19\n",
      "Cond 1: 25\n",
      "Cond 1: 71\n",
      "Cond 2\n",
      "Cond 1: 32\n",
      "Cond 1: 64\n",
      "Cond 1: 6\n",
      "Cond 1: 64\n",
      "Cond 1: 26\n",
      "Cond 1: 35\n",
      "Cond 1: 34\n",
      "Cond 1: 4\n",
      "Cond 1: 35\n",
      "Cond 2\n",
      "Cond 1: 25\n",
      "Cond 1: 70\n",
      "Cond 1: 23\n",
      "Cond 1: 29\n",
      "Cond 1: 71\n",
      "Cond 1: 51\n",
      "Cond 1: 71\n",
      "Cond 1: 3\n",
      "Cond 1: 49\n",
      "Cond 1: 28\n",
      "Cond 1: 50\n",
      "Cond 1: 23\n",
      "Cond 2\n",
      "Cond 1: 2\n",
      "Cond 1: 22\n",
      "Cond 1: 58\n",
      "Cond 2\n",
      "Cond 1: 26\n",
      "Cond 1: 53\n",
      "Cond 1: 49\n",
      "Cond 1: 42\n",
      "Cond 1: 27\n",
      "Cond 1: 33\n",
      "Cond 1: 24\n",
      "Cond 1: 34\n",
      "Cond 1: 25\n",
      "Cond 1: 29\n",
      "Cond 1: 25\n",
      "Cond 1: 20\n",
      "Cond 1: 36\n",
      "Cond 1: 27\n",
      "Cond 1: 2\n",
      "Cond 1: 57\n",
      "Cond 1: 66\n",
      "Cond 1: 5\n",
      "Cond 1: 54\n",
      "Cond 1: 43\n",
      "Cond 1: 10\n",
      "Cond 1: 29\n",
      "Cond 1: 27\n",
      "Cond 1: 4\n",
      "Cond 1: 23\n",
      "Cond 2\n",
      "Cond 1: 26\n",
      "Cond 1: 26\n",
      "Cond 1: 32\n",
      "Cond 2\n",
      "Cond 1: 53\n",
      "Cond 1: 27\n",
      "Cond 1: 21\n",
      "Cond 1: 8\n",
      "Cond 1: 32\n",
      "Cond 1: 51\n",
      "Cond 1: 3\n",
      "Cond 1: 43\n",
      "Cond 1: 46\n",
      "Cond 2\n",
      "Cond 1: 10\n",
      "Cond 1: 28\n",
      "Cond 1: 36\n",
      "Cond 2\n",
      "Cond 1: 33\n",
      "Cond 1: 20\n",
      "Cond 1: 52\n",
      "Cond 1: 51\n",
      "Cond 1: 45\n",
      "Cond 1: 48\n",
      "Cond 1: 37\n",
      "remaining requests: 418\n",
      "tweets remaining: ~ 6270\n",
      "reset at: 2020-06-24 18:59:06\n",
      "reset in: 08:21\n",
      "100\n"
     ]
    }
   ],
   "source": [
    "# Analyze user:\n",
    "users = craw.get_users()\n",
    "print(len(users))\n",
    "# user = craw.get_user_from_id(\"ZDFheute\")\n",
    "# user = craw.get_user_from_id(\"BarackObama\")\n",
    "# tweets = craw.get_tweets()\n",
    "# tweets = craw.get_timeline(users[0])\n",
    "# len(tweets)"
   ]
  },
  {
   "cell_type": "code",
   "execution_count": 13,
   "metadata": {
    "scrolled": true
   },
   "outputs": [
    {
     "name": "stdout",
     "output_type": "stream",
     "text": [
      "Search reached end point\n",
      "Checked Tweets: 1941\n",
      "remaining requests: 320\n",
      "tweets remaining: ~ 4800\n",
      "reset at: 2020-06-24 18:59:06\n",
      "reset in: 05:49\n",
      "Search reached end point\n",
      "Checked Tweets: 1032\n",
      "remaining requests: 268\n",
      "tweets remaining: ~ 4020\n",
      "reset at: 2020-06-24 18:59:06\n",
      "reset in: 05:37\n",
      "Checked Tweets: 3142\n",
      "remaining requests: 106\n",
      "tweets remaining: ~ 1590\n",
      "reset at: 2020-06-24 18:59:06\n",
      "reset in: 04:53\n",
      "Search reached end point\n",
      "Checked Tweets: 1915\n",
      "remaining requests: 3\n",
      "tweets remaining: ~ 45\n",
      "reset at: 2020-06-24 18:59:06\n",
      "reset in: 04:26\n"
     ]
    },
    {
     "name": "stderr",
     "output_type": "stream",
     "text": [
      "Rate limit reached. Sleeping for: 267\n"
     ]
    },
    {
     "name": "stdout",
     "output_type": "stream",
     "text": [
      "Search reached end point\n",
      "Checked Tweets: 1607\n",
      "remaining requests: 1422\n",
      "tweets remaining: ~ 21330\n",
      "reset at: 2020-06-24 19:14:12\n",
      "reset in: 14:40\n",
      "Checked Tweets: 3108\n",
      "remaining requests: 1260\n",
      "tweets remaining: ~ 18900\n",
      "reset at: 2020-06-24 19:14:12\n",
      "reset in: 13:56\n",
      "Search reached end point\n",
      "Checked Tweets: 217\n",
      "remaining requests: 1249\n",
      "tweets remaining: ~ 18735\n",
      "reset at: 2020-06-24 19:14:12\n",
      "reset in: 13:53\n",
      "Search reached end point\n",
      "Checked Tweets: 2530\n",
      "remaining requests: 1116\n",
      "tweets remaining: ~ 16740\n",
      "reset at: 2020-06-24 19:14:12\n",
      "reset in: 13:18\n",
      "Search reached end point\n",
      "Checked Tweets: 37\n",
      "remaining requests: 1114\n",
      "tweets remaining: ~ 16710\n",
      "reset at: 2020-06-24 19:14:12\n",
      "reset in: 13:17\n",
      "Checked Tweets: 3039\n",
      "remaining requests: 950\n",
      "tweets remaining: ~ 14250\n",
      "reset at: 2020-06-24 19:14:12\n",
      "reset in: 12:33\n",
      "Checked Tweets: 3207\n",
      "remaining requests: 788\n",
      "tweets remaining: ~ 11820\n",
      "reset at: 2020-06-24 19:14:12\n",
      "reset in: 11:49\n",
      "Search reached end point\n",
      "Checked Tweets: 868\n",
      "remaining requests: 743\n",
      "tweets remaining: ~ 11145\n",
      "reset at: 2020-06-24 19:14:12\n",
      "reset in: 11:38\n",
      "Search reached end point\n",
      "Checked Tweets: 911\n",
      "remaining requests: 697\n",
      "tweets remaining: ~ 10455\n",
      "reset at: 2020-06-24 19:14:12\n",
      "reset in: 11:28\n",
      "Search reached end point\n",
      "Checked Tweets: 173\n",
      "remaining requests: 688\n",
      "tweets remaining: ~ 10320\n",
      "reset at: 2020-06-24 19:14:12\n",
      "reset in: 11:26\n",
      "Search reached end point\n",
      "Checked Tweets: 2024\n",
      "remaining requests: 583\n",
      "tweets remaining: ~ 8745\n",
      "reset at: 2020-06-24 19:14:12\n",
      "reset in: 10:59\n",
      "Search reached end point\n",
      "Checked Tweets: 392\n",
      "remaining requests: 562\n",
      "tweets remaining: ~ 8430\n",
      "reset at: 2020-06-24 19:14:12\n",
      "reset in: 10:54\n",
      "Search reached end point\n",
      "Checked Tweets: 2530\n",
      "remaining requests: 434\n",
      "tweets remaining: ~ 6510\n",
      "reset at: 2020-06-24 19:14:12\n",
      "reset in: 10:19\n",
      "Search reached end point\n",
      "Checked Tweets: 580\n",
      "remaining requests: 405\n",
      "tweets remaining: ~ 6075\n",
      "reset at: 2020-06-24 19:14:12\n",
      "reset in: 10:13\n",
      "Checked Tweets: 3227\n",
      "remaining requests: 242\n",
      "tweets remaining: ~ 3630\n",
      "reset at: 2020-06-24 19:14:12\n",
      "reset in: 09:36\n",
      "Search reached end point\n",
      "Checked Tweets: 167\n",
      "remaining requests: 233\n",
      "tweets remaining: ~ 3495\n",
      "reset at: 2020-06-24 19:14:12\n",
      "reset in: 09:34\n",
      "Checked Tweets: 3128\n",
      "remaining requests: 71\n",
      "tweets remaining: ~ 1065\n",
      "reset at: 2020-06-24 19:14:12\n",
      "reset in: 08:49\n",
      "Search reached end point\n",
      "Checked Tweets: 507\n",
      "remaining requests: 45\n",
      "tweets remaining: ~ 675\n",
      "reset at: 2020-06-24 19:14:12\n",
      "reset in: 08:42\n",
      "Search reached end point\n",
      "Checked Tweets: 68\n",
      "remaining requests: 41\n",
      "tweets remaining: ~ 615\n",
      "reset at: 2020-06-24 19:14:12\n",
      "reset in: 08:41\n"
     ]
    },
    {
     "name": "stderr",
     "output_type": "stream",
     "text": [
      "Rate limit reached. Sleeping for: 513\n"
     ]
    },
    {
     "name": "stdout",
     "output_type": "stream",
     "text": [
      "Search reached end point\n",
      "Checked Tweets: 1249\n",
      "remaining requests: 1478\n",
      "tweets remaining: ~ 22170\n",
      "reset at: 2020-06-24 19:29:17\n",
      "reset in: 14:55\n",
      "Search reached end point\n",
      "Checked Tweets: 1370\n",
      "remaining requests: 1403\n",
      "tweets remaining: ~ 21045\n",
      "reset at: 2020-06-24 19:29:17\n",
      "reset in: 14:35\n",
      "Search reached end point\n",
      "Checked Tweets: 1299\n",
      "remaining requests: 1337\n",
      "tweets remaining: ~ 20055\n",
      "reset at: 2020-06-24 19:29:17\n",
      "reset in: 14:18\n",
      "Search reached end point\n",
      "Checked Tweets: 148\n",
      "remaining requests: 1329\n",
      "tweets remaining: ~ 19935\n",
      "reset at: 2020-06-24 19:29:17\n",
      "reset in: 14:16\n",
      "Search reached end point\n",
      "Checked Tweets: 678\n",
      "remaining requests: 1294\n",
      "tweets remaining: ~ 19410\n",
      "reset at: 2020-06-24 19:29:17\n",
      "reset in: 14:07\n",
      "Search reached end point\n",
      "Checked Tweets: 2386\n",
      "remaining requests: 1174\n",
      "tweets remaining: ~ 17610\n",
      "reset at: 2020-06-24 19:29:17\n",
      "reset in: 13:39\n",
      "Search reached end point\n",
      "Checked Tweets: 403\n",
      "remaining requests: 1153\n",
      "tweets remaining: ~ 17295\n",
      "reset at: 2020-06-24 19:29:17\n",
      "reset in: 13:34\n",
      "Search reached end point\n",
      "Checked Tweets: 251\n",
      "remaining requests: 1140\n",
      "tweets remaining: ~ 17100\n",
      "reset at: 2020-06-24 19:29:17\n",
      "reset in: 13:31\n",
      "Search reached end point\n",
      "Checked Tweets: 390\n",
      "remaining requests: 1120\n",
      "tweets remaining: ~ 16800\n",
      "reset at: 2020-06-24 19:29:17\n",
      "reset in: 13:26\n",
      "Checked Tweets: 1940\n",
      "remaining requests: 1021\n",
      "tweets remaining: ~ 15315\n",
      "reset at: 2020-06-24 19:29:17\n",
      "reset in: 13:00\n",
      "Search reached end point\n",
      "Checked Tweets: 2898\n",
      "remaining requests: 875\n",
      "tweets remaining: ~ 13125\n",
      "reset at: 2020-06-24 19:29:17\n",
      "reset in: 12:21\n",
      "Search reached end point\n",
      "Checked Tweets: 2456\n",
      "remaining requests: 751\n",
      "tweets remaining: ~ 11265\n",
      "reset at: 2020-06-24 19:29:17\n",
      "reset in: 11:47\n",
      "Search reached end point\n",
      "Checked Tweets: 320\n",
      "remaining requests: 735\n",
      "tweets remaining: ~ 11025\n",
      "reset at: 2020-06-24 19:29:17\n",
      "reset in: 11:43\n",
      "Search reached end point\n",
      "Checked Tweets: 357\n",
      "remaining requests: 717\n",
      "tweets remaining: ~ 10755\n",
      "reset at: 2020-06-24 19:29:17\n",
      "reset in: 11:38\n",
      "Search reached end point\n",
      "Checked Tweets: 2408\n",
      "remaining requests: 596\n",
      "tweets remaining: ~ 8940\n",
      "reset at: 2020-06-24 19:29:17\n",
      "reset in: 11:10\n",
      "Search reached end point\n",
      "Checked Tweets: 140\n",
      "remaining requests: 589\n",
      "tweets remaining: ~ 8835\n",
      "reset at: 2020-06-24 19:29:17\n",
      "reset in: 11:08\n",
      "Search reached end point\n",
      "Checked Tweets: 254\n",
      "remaining requests: 575\n",
      "tweets remaining: ~ 8625\n",
      "reset at: 2020-06-24 19:29:17\n",
      "reset in: 11:04\n",
      "Search reached end point\n",
      "Checked Tweets: 20\n",
      "remaining requests: 574\n",
      "tweets remaining: ~ 8610\n",
      "reset at: 2020-06-24 19:29:17\n",
      "reset in: 11:04\n",
      "Search reached end point\n",
      "Checked Tweets: 94\n",
      "remaining requests: 569\n",
      "tweets remaining: ~ 8535\n",
      "reset at: 2020-06-24 19:29:17\n",
      "reset in: 11:03\n",
      "Search reached end point\n",
      "Checked Tweets: 340\n",
      "remaining requests: 552\n",
      "tweets remaining: ~ 8280\n",
      "reset at: 2020-06-24 19:29:17\n",
      "reset in: 10:59\n",
      "Search reached end point\n",
      "Checked Tweets: 359\n",
      "remaining requests: 534\n",
      "tweets remaining: ~ 8010\n",
      "reset at: 2020-06-24 19:29:17\n",
      "reset in: 10:55\n",
      "Search reached end point\n",
      "Checked Tweets: 1018\n",
      "remaining requests: 483\n",
      "tweets remaining: ~ 7245\n",
      "reset at: 2020-06-24 19:29:17\n",
      "reset in: 10:44\n",
      "Search reached end point\n",
      "Checked Tweets: 465\n",
      "remaining requests: 459\n",
      "tweets remaining: ~ 6885\n",
      "reset at: 2020-06-24 19:29:17\n",
      "reset in: 10:38\n",
      "Search reached end point\n",
      "Checked Tweets: 2153\n",
      "remaining requests: 351\n",
      "tweets remaining: ~ 5265\n",
      "reset at: 2020-06-24 19:29:17\n",
      "reset in: 10:14\n",
      "Search reached end point\n",
      "Checked Tweets: 1789\n",
      "remaining requests: 259\n",
      "tweets remaining: ~ 3885\n",
      "reset at: 2020-06-24 19:29:17\n",
      "reset in: 09:50\n",
      "Search reached end point\n",
      "Checked Tweets: 495\n",
      "remaining requests: 234\n",
      "tweets remaining: ~ 3510\n",
      "reset at: 2020-06-24 19:29:17\n",
      "reset in: 09:45\n",
      "Search reached end point\n",
      "Checked Tweets: 33\n",
      "remaining requests: 232\n",
      "tweets remaining: ~ 3480\n",
      "reset at: 2020-06-24 19:29:17\n",
      "reset in: 09:44\n",
      "Search reached end point\n",
      "Checked Tweets: 305\n",
      "remaining requests: 216\n",
      "tweets remaining: ~ 3240\n",
      "reset at: 2020-06-24 19:29:17\n",
      "reset in: 09:40\n",
      "Search reached end point\n",
      "Checked Tweets: 1532\n",
      "remaining requests: 139\n",
      "tweets remaining: ~ 2085\n",
      "reset at: 2020-06-24 19:29:17\n",
      "reset in: 09:24\n"
     ]
    },
    {
     "name": "stderr",
     "output_type": "stream",
     "text": [
      "Rate limit reached. Sleeping for: 531\n"
     ]
    },
    {
     "name": "stdout",
     "output_type": "stream",
     "text": [
      "Checked Tweets: 3220\n",
      "remaining requests: 1476\n",
      "tweets remaining: ~ 22140\n",
      "reset at: 2020-06-24 19:44:22\n",
      "reset in: 14:53\n",
      "Search reached end point\n",
      "Checked Tweets: 1662\n",
      "remaining requests: 1392\n",
      "tweets remaining: ~ 20880\n",
      "reset at: 2020-06-24 19:44:22\n",
      "reset in: 14:32\n",
      "Search reached end point\n",
      "Checked Tweets: 216\n",
      "remaining requests: 1381\n",
      "tweets remaining: ~ 20715\n",
      "reset at: 2020-06-24 19:44:22\n",
      "reset in: 14:30\n",
      "Search reached end point\n",
      "Checked Tweets: 87\n",
      "remaining requests: 1376\n",
      "tweets remaining: ~ 20640\n",
      "reset at: 2020-06-24 19:44:22\n",
      "reset in: 14:29\n",
      "Search reached end point\n",
      "Checked Tweets: 945\n",
      "remaining requests: 1328\n",
      "tweets remaining: ~ 19920\n",
      "reset at: 2020-06-24 19:44:22\n",
      "reset in: 14:18\n",
      "Search reached end point\n",
      "Checked Tweets: 1220\n",
      "remaining requests: 1267\n",
      "tweets remaining: ~ 19005\n",
      "reset at: 2020-06-24 19:44:22\n",
      "reset in: 14:05\n",
      "Search reached end point\n",
      "Checked Tweets: 2510\n",
      "remaining requests: 1140\n",
      "tweets remaining: ~ 17100\n",
      "reset at: 2020-06-24 19:44:22\n",
      "reset in: 13:31\n",
      "Search reached end point\n",
      "Checked Tweets: 293\n",
      "remaining requests: 1125\n",
      "tweets remaining: ~ 16875\n",
      "reset at: 2020-06-24 19:44:22\n",
      "reset in: 13:26\n",
      "Search reached end point\n",
      "Checked Tweets: 509\n",
      "remaining requests: 1099\n",
      "tweets remaining: ~ 16485\n",
      "reset at: 2020-06-24 19:44:22\n",
      "reset in: 13:20\n",
      "Search reached end point\n",
      "Checked Tweets: 248\n",
      "remaining requests: 1086\n",
      "tweets remaining: ~ 16290\n",
      "reset at: 2020-06-24 19:44:22\n",
      "reset in: 13:17\n",
      "Search reached end point\n",
      "Checked Tweets: 418\n",
      "remaining requests: 1064\n",
      "tweets remaining: ~ 15960\n",
      "reset at: 2020-06-24 19:44:22\n",
      "reset in: 13:12\n",
      "Search reached end point\n",
      "Checked Tweets: 69\n",
      "remaining requests: 1060\n",
      "tweets remaining: ~ 15900\n",
      "reset at: 2020-06-24 19:44:22\n",
      "reset in: 13:11\n",
      "Checked Tweets: 3186\n",
      "remaining requests: 898\n",
      "tweets remaining: ~ 13470\n",
      "reset at: 2020-06-24 19:44:22\n",
      "reset in: 12:30\n",
      "Checked Tweets: 3072\n",
      "remaining requests: 734\n",
      "tweets remaining: ~ 11010\n",
      "reset at: 2020-06-24 19:44:22\n",
      "reset in: 11:46\n",
      "Search reached end point\n",
      "Checked Tweets: 2901\n",
      "remaining requests: 588\n",
      "tweets remaining: ~ 8820\n",
      "reset at: 2020-06-24 19:44:22\n",
      "reset in: 11:09\n",
      "Search reached end point\n",
      "Checked Tweets: 258\n",
      "remaining requests: 575\n",
      "tweets remaining: ~ 8625\n",
      "reset at: 2020-06-24 19:44:22\n",
      "reset in: 11:07\n",
      "Search reached end point\n",
      "Checked Tweets: 1186\n",
      "remaining requests: 515\n",
      "tweets remaining: ~ 7725\n",
      "reset at: 2020-06-24 19:44:22\n",
      "reset in: 10:53\n",
      "Search reached end point\n",
      "Checked Tweets: 35\n",
      "remaining requests: 513\n",
      "tweets remaining: ~ 7695\n",
      "reset at: 2020-06-24 19:44:22\n",
      "reset in: 10:53\n",
      "Search reached end point\n",
      "Checked Tweets: 1536\n",
      "remaining requests: 435\n",
      "tweets remaining: ~ 6525\n",
      "reset at: 2020-06-24 19:44:22\n",
      "reset in: 10:31\n",
      "Search reached end point\n",
      "Checked Tweets: 529\n",
      "remaining requests: 408\n",
      "tweets remaining: ~ 6120\n",
      "reset at: 2020-06-24 19:44:22\n",
      "reset in: 10:25\n",
      "Search reached end point\n",
      "Checked Tweets: 2524\n",
      "remaining requests: 281\n",
      "tweets remaining: ~ 4215\n",
      "reset at: 2020-06-24 19:44:22\n",
      "reset in: 09:57\n",
      "Search reached end point\n",
      "Checked Tweets: 985\n",
      "remaining requests: 230\n",
      "tweets remaining: ~ 3450\n",
      "reset at: 2020-06-24 19:44:22\n",
      "reset in: 09:44\n",
      "Search reached end point\n",
      "Checked Tweets: 986\n",
      "remaining requests: 180\n",
      "tweets remaining: ~ 2700\n",
      "reset at: 2020-06-24 19:44:22\n",
      "reset in: 09:30\n",
      "Search reached end point\n",
      "Checked Tweets: 556\n",
      "remaining requests: 152\n",
      "tweets remaining: ~ 2280\n",
      "reset at: 2020-06-24 19:44:22\n",
      "reset in: 09:24\n",
      "Search reached end point\n",
      "Checked Tweets: 936\n",
      "remaining requests: 105\n",
      "tweets remaining: ~ 1575\n",
      "reset at: 2020-06-24 19:44:22\n",
      "reset in: 09:11\n",
      "Search reached end point\n",
      "Checked Tweets: 403\n",
      "remaining requests: 84\n",
      "tweets remaining: ~ 1260\n",
      "reset at: 2020-06-24 19:44:22\n",
      "reset in: 09:06\n",
      "Search reached end point\n",
      "Checked Tweets: 1486\n",
      "remaining requests: 9\n",
      "tweets remaining: ~ 135\n",
      "reset at: 2020-06-24 19:44:22\n",
      "reset in: 08:50\n"
     ]
    },
    {
     "name": "stderr",
     "output_type": "stream",
     "text": [
      "Rate limit reached. Sleeping for: 528\n"
     ]
    },
    {
     "name": "stdout",
     "output_type": "stream",
     "text": [
      "Search reached end point\n",
      "Checked Tweets: 417\n",
      "remaining requests: 1487\n",
      "tweets remaining: ~ 22305\n",
      "reset at: 2020-06-24 19:59:27\n",
      "reset in: 14:55\n",
      "Search reached end point\n",
      "Checked Tweets: 99\n",
      "remaining requests: 1482\n",
      "tweets remaining: ~ 22230\n",
      "reset at: 2020-06-24 19:59:27\n",
      "reset in: 14:54\n",
      "Search reached end point\n",
      "Checked Tweets: 80\n",
      "remaining requests: 1478\n",
      "tweets remaining: ~ 22170\n",
      "reset at: 2020-06-24 19:59:27\n",
      "reset in: 14:53\n",
      "Checked Tweets: 3094\n",
      "remaining requests: 1315\n",
      "tweets remaining: ~ 19725\n",
      "reset at: 2020-06-24 19:59:27\n",
      "reset in: 14:09\n",
      "Search reached end point\n",
      "Checked Tweets: 264\n",
      "remaining requests: 1301\n",
      "tweets remaining: ~ 19515\n",
      "reset at: 2020-06-24 19:59:27\n",
      "reset in: 14:06\n",
      "Search reached end point\n",
      "Checked Tweets: 1114\n",
      "remaining requests: 1244\n",
      "tweets remaining: ~ 18660\n",
      "reset at: 2020-06-24 19:59:27\n",
      "reset in: 13:52\n",
      "Search reached end point\n",
      "Checked Tweets: 854\n",
      "remaining requests: 1201\n",
      "tweets remaining: ~ 18015\n",
      "reset at: 2020-06-24 19:59:27\n",
      "reset in: 13:40\n",
      "Search reached end point\n",
      "Checked Tweets: 800\n",
      "remaining requests: 1160\n",
      "tweets remaining: ~ 17400\n",
      "reset at: 2020-06-24 19:59:27\n",
      "reset in: 13:30\n",
      "Search reached end point\n",
      "Checked Tweets: 2345\n",
      "remaining requests: 1042\n",
      "tweets remaining: ~ 15630\n",
      "reset at: 2020-06-24 19:59:27\n",
      "reset in: 13:04\n",
      "Checked Tweets: 3222\n",
      "remaining requests: 879\n",
      "tweets remaining: ~ 13185\n",
      "reset at: 2020-06-24 19:59:27\n",
      "reset in: 12:29\n",
      "Search reached end point\n",
      "Checked Tweets: 1290\n",
      "remaining requests: 814\n",
      "tweets remaining: ~ 12210\n",
      "reset at: 2020-06-24 19:59:27\n",
      "reset in: 12:14\n",
      "Search reached end point\n",
      "Checked Tweets: 484\n",
      "remaining requests: 789\n",
      "tweets remaining: ~ 11835\n",
      "reset at: 2020-06-24 19:59:27\n",
      "reset in: 12:07\n",
      "Search reached end point\n",
      "Checked Tweets: 384\n",
      "remaining requests: 769\n",
      "tweets remaining: ~ 11535\n",
      "reset at: 2020-06-24 19:59:27\n",
      "reset in: 12:02\n",
      "Search reached end point\n",
      "Checked Tweets: 258\n",
      "remaining requests: 756\n",
      "tweets remaining: ~ 11340\n",
      "reset at: 2020-06-24 19:59:27\n",
      "reset in: 12:00\n",
      "Checked Tweets: 834\n",
      "remaining requests: 713\n",
      "tweets remaining: ~ 10695\n",
      "reset at: 2020-06-24 19:59:27\n",
      "reset in: 11:48\n",
      "Search reached end point\n",
      "Checked Tweets: 1172\n",
      "remaining requests: 654\n",
      "tweets remaining: ~ 9810\n",
      "reset at: 2020-06-24 19:59:27\n",
      "reset in: 11:34\n",
      "Search reached end point\n",
      "Checked Tweets: 58\n",
      "remaining requests: 651\n",
      "tweets remaining: ~ 9765\n",
      "reset at: 2020-06-24 19:59:27\n",
      "reset in: 11:33\n",
      "Search reached end point\n",
      "Checked Tweets: 2868\n",
      "remaining requests: 507\n",
      "tweets remaining: ~ 7605\n",
      "reset at: 2020-06-24 19:59:27\n",
      "reset in: 11:00\n",
      "Search reached end point\n",
      "Checked Tweets: 1566\n",
      "remaining requests: 428\n",
      "tweets remaining: ~ 6420\n",
      "reset at: 2020-06-24 19:59:27\n",
      "reset in: 10:42\n",
      "Search reached end point\n",
      "Checked Tweets: 1736\n",
      "remaining requests: 340\n",
      "tweets remaining: ~ 5100\n",
      "reset at: 2020-06-24 19:59:27\n",
      "reset in: 10:18\n",
      "Search reached end point\n",
      "Checked Tweets: 178\n",
      "remaining requests: 331\n",
      "tweets remaining: ~ 4965\n",
      "reset at: 2020-06-24 19:59:27\n",
      "reset in: 10:16\n",
      "14\n"
     ]
    }
   ],
   "source": [
    "# tweets = craw.get_full_timeline_until(users[0])\n",
    "all_tweets = []\n",
    "number_of_fails = 0\n",
    "for user in users:    \n",
    "    full_timeline = craw.get_full_timeline_until(user)\n",
    "    if full_timeline == []:\n",
    "        number_of_fails += 1\n",
    "    else:\n",
    "        all_tweets.append(full_timeline)\n",
    "print(number_of_fails)"
   ]
  },
  {
   "cell_type": "code",
   "execution_count": 5,
   "metadata": {},
   "outputs": [
    {
     "name": "stdout",
     "output_type": "stream",
     "text": [
      "54.70472222222222\n"
     ]
    },
    {
     "data": {
      "text/plain": [
       "54"
      ]
     },
     "execution_count": 5,
     "metadata": {},
     "output_type": "execute_result"
    }
   ],
   "source": [
    "a = datetime.datetime.now()\n",
    "b = datetime.datetime(2020,6,22, 12, 00)\n",
    "print((a-b).seconds/3600 + (a-b).days * 24)\n",
    "helper.hours_until(b)"
   ]
  },
  {
   "cell_type": "code",
   "execution_count": 15,
   "metadata": {
    "scrolled": true
   },
   "outputs": [
    {
     "name": "stdout",
     "output_type": "stream",
     "text": [
      "31811\n"
     ]
    }
   ],
   "source": [
    "flattened = [tweet for tweets in all_tweets for tweet in tweets]\n",
    "print(len(flattened))\n",
    "# anal.analyze_and_plot_sentiment_per_week(flattened, 0.7, -0.7)"
   ]
  },
  {
   "cell_type": "code",
   "execution_count": 19,
   "metadata": {},
   "outputs": [
    {
     "data": {
      "image/png": "[encoded data removed]",
      "text/plain": [
       "<Figure size 432x288 with 1 Axes>"
      ]
     },
     "metadata": {
      "needs_background": "light"
     },
     "output_type": "display_data"
    },
    {
     "data": {
      "image/png": "[encoded data removed]",
      "text/plain": [
       "<Figure size 432x288 with 1 Axes>"
      ]
     },
     "metadata": {
      "needs_background": "light"
     },
     "output_type": "display_data"
    }
   ],
   "source": [
    "anal.analyze_and_plot_sentiment_per_week(flattened, 0.8, -0.8)"
   ]
  },
  {
   "cell_type": "code",
   "execution_count": 33,
   "metadata": {},
   "outputs": [
    {
     "data": {
      "image/png": "[encoded data removed]",
      "text/plain": [
       "<Figure size 432x288 with 1 Axes>"
      ]
     },
     "metadata": {
      "needs_background": "light"
     },
     "output_type": "display_data"
    },
    {
     "data": {
      "image/png": "[encoded data removed]",
      "text/plain": [
       "<Figure size 432x288 with 1 Axes>"
      ]
     },
     "metadata": {
      "needs_background": "light"
     },
     "output_type": "display_data"
    }
   ],
   "source": [
    "anal.analyze_and_plot_sentiment_per_week(all_data, 0.5, -0.5)"
   ]
  },
  {
   "cell_type": "code",
   "execution_count": 7,
   "metadata": {},
   "outputs": [
    {
     "name": "stdout",
     "output_type": "stream",
     "text": [
      "Nach dreimonatiger #Corona-Pause dürfen deutsche \"Test-Touristen\" erstmals wieder nach #Mallorca reisen. Von Mitarb… https://t.co/BbfbSTD5t6\n",
      "In der Übergangsphase des #brexit wollen die EU und Großbritannien ein Handelspaket erarbeiten. Bei dem Gespräch zw… https://t.co/ekiRhMlb69\n",
      "In Brandenburg wird die AfD vom Verfassungsschutz beobachtet. Der Sommerurlaub in 27 Ländern ist jetzt möglich. Das… https://t.co/mePCBJO2AY\n",
      "Im weltweiten Rennen um einen #Impfstoff gegen das #Coronavirus steigt der Bund mit 300 Millioenen Euro beim deutsc… https://t.co/rKMYFYWIJy\n"
     ]
    }
   ],
   "source": [
    "filename = \"saved_data/recent_timeline_tweets_1000.json\"\n",
    "tweets = craw.load_tweet(filename)\n",
    "# craw.save_tweets(tweets, filename)\n",
    "print(tweets[0].text)\n",
    "print(tweets[1].text)\n",
    "print(tweets[2].text)\n",
    "print(tweets[3].text)"
   ]
  },
  {
   "cell_type": "code",
   "execution_count": 16,
   "metadata": {},
   "outputs": [
    {
     "ename": "AttributeError",
     "evalue": "type object 'datetime.datetime' has no attribute 'datetime'",
     "output_type": "error",
     "traceback": [
      "\u001b[0;31m---------------------------------------------------------------------------\u001b[0m",
      "\u001b[0;31mAttributeError\u001b[0m                            Traceback (most recent call last)",
      "\u001b[0;32m<ipython-input-16-fb2e35118a55>\u001b[0m in \u001b[0;36m<module>\u001b[0;34m\u001b[0m\n\u001b[1;32m      1\u001b[0m \u001b[0mfilename\u001b[0m \u001b[0;34m=\u001b[0m \u001b[0;34m\"saved_data/full_timeline/2_31k.json\"\u001b[0m\u001b[0;34m\u001b[0m\u001b[0;34m\u001b[0m\u001b[0m\n\u001b[0;32m----> 2\u001b[0;31m \u001b[0mtweets\u001b[0m \u001b[0;34m=\u001b[0m \u001b[0mcraw\u001b[0m\u001b[0;34m.\u001b[0m\u001b[0msave_tweets\u001b[0m\u001b[0;34m(\u001b[0m\u001b[0mflattened\u001b[0m\u001b[0;34m,\u001b[0m \u001b[0mfilename\u001b[0m\u001b[0;34m)\u001b[0m\u001b[0;34m\u001b[0m\u001b[0;34m\u001b[0m\u001b[0m\n\u001b[0m",
      "\u001b[0;32m~/Documents/UNI/Ethics/Project/repo/Corona_Sentinent/crawler.py\u001b[0m in \u001b[0;36msave_tweets\u001b[0;34m(self, tweets, file_name, configs)\u001b[0m\n\u001b[1;32m    264\u001b[0m                 \u001b[0;31m# saves extra file without .json with infos about it:\u001b[0m\u001b[0;34m\u001b[0m\u001b[0;34m\u001b[0m\u001b[0;34m\u001b[0m\u001b[0m\n\u001b[1;32m    265\u001b[0m                 \u001b[0;32mwith\u001b[0m \u001b[0mopen\u001b[0m\u001b[0;34m(\u001b[0m\u001b[0mfile_name\u001b[0m\u001b[0;34m[\u001b[0m\u001b[0;34m:\u001b[0m\u001b[0;34m-\u001b[0m\u001b[0;36m5\u001b[0m\u001b[0;34m]\u001b[0m\u001b[0;34m,\u001b[0m \u001b[0;34m\"w\"\u001b[0m\u001b[0;34m)\u001b[0m \u001b[0;32mas\u001b[0m \u001b[0mf\u001b[0m\u001b[0;34m:\u001b[0m\u001b[0;34m\u001b[0m\u001b[0;34m\u001b[0m\u001b[0m\n\u001b[0;32m--> 266\u001b[0;31m                         \u001b[0mf\u001b[0m\u001b[0;34m.\u001b[0m\u001b[0mwrite\u001b[0m\u001b[0;34m(\u001b[0m\u001b[0mdatetime\u001b[0m\u001b[0;34m.\u001b[0m\u001b[0mdatetime\u001b[0m\u001b[0;34m.\u001b[0m\u001b[0mnow\u001b[0m\u001b[0;34m(\u001b[0m\u001b[0;34m)\u001b[0m\u001b[0;34m)\u001b[0m\u001b[0;34m\u001b[0m\u001b[0;34m\u001b[0m\u001b[0m\n\u001b[0m\u001b[1;32m    267\u001b[0m                         \u001b[0mf\u001b[0m\u001b[0;34m.\u001b[0m\u001b[0mwrite\u001b[0m\u001b[0;34m(\u001b[0m\u001b[0;34m'\\n'\u001b[0m\u001b[0;34m)\u001b[0m\u001b[0;34m\u001b[0m\u001b[0;34m\u001b[0m\u001b[0m\n\u001b[1;32m    268\u001b[0m                         \u001b[0mf\u001b[0m\u001b[0;34m.\u001b[0m\u001b[0mwrite\u001b[0m\u001b[0;34m(\u001b[0m\u001b[0mstr\u001b[0m\u001b[0;34m(\u001b[0m\u001b[0mself\u001b[0m\u001b[0;34m.\u001b[0m\u001b[0mconfig\u001b[0m\u001b[0;34m)\u001b[0m\u001b[0;34m)\u001b[0m\u001b[0;34m\u001b[0m\u001b[0;34m\u001b[0m\u001b[0m\n",
      "\u001b[0;31mAttributeError\u001b[0m: type object 'datetime.datetime' has no attribute 'datetime'"
     ]
    }
   ],
   "source": [
    "filename = \"saved_data/full_timeline/2_31k.json\"\n",
    "tweets = craw.save_tweets(flattened, filename)"
   ]
  },
  {
   "cell_type": "code",
   "execution_count": 10,
   "metadata": {
    "scrolled": true
   },
   "outputs": [],
   "source": [
    "res = anal.analyze_sentiment(tweets)\n",
    "res2 = anal.analyze_timeline(tweets)\n",
    "# plot.simple_hist(res[\"ages\"])"
   ]
  },
  {
   "cell_type": "code",
   "execution_count": 12,
   "metadata": {},
   "outputs": [
    {
     "data": {
      "text/plain": [
       "801"
      ]
     },
     "execution_count": 12,
     "metadata": {},
     "output_type": "execute_result"
    }
   ],
   "source": [
    "len(res2[\"ages\"][\"tweets_age\"])"
   ]
  },
  {
   "cell_type": "code",
   "execution_count": 23,
   "metadata": {},
   "outputs": [],
   "source": [
    "dataBlob = []\n",
    "fullSenti = []\n",
    "for tweet in tweets:\n",
    "    senti = modl.get_polarity_without_preprocessing(tweet.text)\n",
    "    fullSenti.append(senti)\n",
    "    # TODO kann man auch auslagern\n",
    "    # Beste Text Blob sentis: -0.7, 0.7\n",
    "    if senti > 0.7:\n",
    "        dataBlob.append('pos')\n",
    "    elif senti < -0.7:\n",
    "        dataBlob.append('neg')\n",
    "    else:\n",
    "        dataBlob.append('neut')"
   ]
  },
  {
   "cell_type": "code",
   "execution_count": 21,
   "metadata": {},
   "outputs": [],
   "source": [
    "dataUs = modlUs.get_sentiment_labels_batch([tweet.text for tweet in tweets])\n",
    "dataUs2 = modlUs.get_sentiment_label_without_preprocessing([tweet.text for tweet in tweets])"
   ]
  },
  {
   "cell_type": "code",
   "execution_count": 22,
   "metadata": {},
   "outputs": [
    {
     "data": {
      "image/png": "[encoded data removed]",
      "text/plain": [
       "<Figure size 432x288 with 1 Axes>"
      ]
     },
     "metadata": {
      "needs_background": "light"
     },
     "output_type": "display_data"
    }
   ],
   "source": [
    "plot.simple_hist(dataUs)"
   ]
  },
  {
   "cell_type": "code",
   "execution_count": 25,
   "metadata": {},
   "outputs": [
    {
     "data": {
      "image/png": "[encoded data removed]",
      "text/plain": [
       "<Figure size 432x288 with 1 Axes>"
      ]
     },
     "metadata": {
      "needs_background": "light"
     },
     "output_type": "display_data"
    }
   ],
   "source": [
    "plot.simple_hist(dataUs2)"
   ]
  },
  {
   "cell_type": "code",
   "execution_count": null,
   "metadata": {},
   "outputs": [],
   "source": []
  }
 ],
 "metadata": {
  "kernelspec": {
   "display_name": "Ethics",
   "language": "python",
   "name": "ethics"
  },
  "language_info": {
   "codemirror_mode": {
    "name": "ipython",
    "version": 3
   },
   "file_extension": ".py",
   "mimetype": "text/x-python",
   "name": "python",
   "nbconvert_exporter": "python",
   "pygments_lexer": "ipython3",
   "version": "3.8.2"
  }
 },
 "nbformat": 4,
 "nbformat_minor": 4
}
