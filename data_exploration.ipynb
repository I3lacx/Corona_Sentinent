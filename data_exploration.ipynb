{
 "cells": [
  {
   "cell_type": "code",
   "execution_count": 1,
   "metadata": {},
   "outputs": [
    {
     "data": {
      "text/plain": [
       "'\\nData Exploration Notebook\\n'"
      ]
     },
     "execution_count": 1,
     "metadata": {},
     "output_type": "execute_result"
    }
   ],
   "source": [
    "\"\"\"\n",
    "Data Exploration Notebook\n",
    "\"\"\""
   ]
  },
  {
   "cell_type": "code",
   "execution_count": 120,
   "metadata": {},
   "outputs": [],
   "source": [
    "import math\n",
    "\n",
    "import helper\n",
    "from analyzer import Analyzer, group_tweets_by_calendar_week\n",
    "from crawler import Crawler\n",
    "from plotter import Plotter\n",
    "# from model import Vader, TrainedSentimentModel, TextBlob\n",
    "\n",
    "# Extra imports\n",
    "import datetime\n",
    "import os\n",
    "import json\n",
    "import numpy as np\n",
    "\n",
    "import matplotlib.pyplot as plt\n",
    "import statistics as stat"
   ]
  },
  {
   "cell_type": "code",
   "execution_count": 3,
   "metadata": {},
   "outputs": [],
   "source": [
    "SCAN_ID = \"all\"\n",
    "\n",
    "config_dict = {\n",
    "\t\"user_auth\": False,  # autheticate as user or application\n",
    "\t\"search\": {\n",
    "\t\t\"location\": \"darmstadt\",  # based on helper.GEOCODES dictionary\n",
    "\t\t\"radius\": 100,  # optional default to 100\n",
    "\t\t\"query\": ['der, die, das'],  # query for searching (str array), either query or location has to be not empty\n",
    "\t\t\"max_searches\": 5000,  # Default: 1000 max amount of searches\n",
    "\t\t\"num_results\": 5000,  # number of results with defined filter options\n",
    "\t\t\"rate_limit\": True,  # Default True: to turn off rate limit prints\n",
    "\t\t\"filter\": {  # Filter applies to search\n",
    "\t\t\t\"not_reply\": True,  # Filters for not replies when true, does nothing when false\n",
    "\t\t\t\"not_retweet\": True,  # Filters for not retweets when true, does nothing when false\n",
    "\t\t\t\"until\": datetime.datetime(2020, 3, 1),  # None or datetime (e.g. datetime.datetime(2020, 5, 20))\n",
    "\t\t}\n",
    "\t},\n",
    "\t\"get_user\": {  # Optional, only when querying for users\n",
    "\t\t\"good_user\": True,  # mandatory\n",
    "\t\t\"search_type\": \"recent_user\",  # 'recent_user', 'recent_retweeted_user'\n",
    "\t\t\"num_users\": 30,  # mandatory\n",
    "\t\t\"unique_ids\": True,  # If true will remember user ids in session\n",
    "\t},\n",
    "\t\"analyze_sentiment\": {\n",
    "\t\t\"pos_boundary\": 0.8,  # boundary for classifying tweets as \"extremely\" positive\n",
    "\t\t\"neg_boundary\": 0.7,  # boundary for classifying tweets as \"extremely\" negative\n",
    "\t\t\"users_dir\": \"saved_data/full_scan_both/results/all/\".format(SCAN_ID)  # there the sentiment analysis files are stored\n",
    "\t},\n",
    "\t\"plot\": {\n",
    "\t\t\"title\": \"Testing\",\n",
    "\t\t\"group_by\": 1,  # number of days of each group in the histogramm\n",
    "\t\t\"end_date\": datetime.datetime(2020, 3, 31, 23, 59),  # last day included in the analysis\n",
    "\t\t\"start_date\": datetime.datetime(2020, 3, 1)  # first day included in the analysis\n",
    "\t},\n",
    "\t# Full search not tested and should only be used with caution!\n",
    "\t\"full_search\": {\n",
    "\t\t\"query\": \"#Corona lang:de\",  # the query used for full search\n",
    "\t\t\"env_name\": \"dev\",  # your premium environment name\n",
    "\t\t\"fromDate\": \"2020\" + \"01\" + \"15\" + \"1200\",  # Format: YYYYMMDDHHmm\n",
    "\t\t\"toDate\": \"2020\" + \"06\" + \"01\" + \"1200\"\n",
    "\t},\n",
    "\t# A full scan over 3 areas each hour, should run continuous\n",
    "\t\"full_scan\": {\n",
    "\t\t\"active\": True,\n",
    "\t\t\"path\": \"saved_data/full_scan/\",\n",
    "\t\t\"locations\": [\"scan_1\", \"scan_2\", \"scan_3\"],  # All locations used by the scan\n",
    "\t}\n",
    "}"
   ]
  },
  {
   "cell_type": "code",
   "execution_count": 4,
   "metadata": {},
   "outputs": [],
   "source": [
    "config = helper.init_config(config_dict)\n",
    "crawler = Crawler(config)"
   ]
  },
  {
   "cell_type": "code",
   "execution_count": 8,
   "metadata": {},
   "outputs": [],
   "source": [
    "def get_reduced_tweets(scan_id: int=None, begin_id: int=None, end_id: int=None):\n",
    "    \"\"\"\n",
    "    :param scan_id: Defines the specific id to folder, if None, will take all folders into the output\n",
    "    \"\"\"\n",
    "    analysation_dicts = []\n",
    "    if scan_id is None:\n",
    "        all_user_ids = set()\n",
    "        user_filenames = []\n",
    "        for i in range(0, 3):\n",
    "            users_dir = \"saved_data/full_scan_both/tweets/{}/\".format(i)\n",
    "            current_user_ids = [user_id for user_id in sorted(os.listdir(users_dir)) if not user_id in all_user_ids]\n",
    "            all_user_ids.update(current_user_ids)\n",
    "            # should all be files, just to be extra sure\n",
    "            current_user_filenames = [users_dir + filename for filename in current_user_ids if\n",
    "                                      os.path.isfile(users_dir + filename)]\n",
    "            user_filenames += current_user_filenames\n",
    "    else:\n",
    "        assert scan_id in [0,1,2]\n",
    "        users_dir = \"saved_data/full_scan_both/tweets/{}/\".format(scan_id)\n",
    "        user_filenames = [users_dir + filename for filename in sorted(os.listdir(users_dir)) if\n",
    "                          os.path.isfile(users_dir + filename)]\n",
    "    \n",
    "    # If begin/end_id is None, will go to start from 0/until the end\n",
    "    user_filenames = user_filenames[begin_id: end_id]\n",
    "    user_tweets = [crawler.load_tweet_for_analysation(filename) for filename in user_filenames]\n",
    "    return user_tweets"
   ]
  },
  {
   "cell_type": "code",
   "execution_count": 9,
   "metadata": {},
   "outputs": [],
   "source": [
    "user_tweets = get_reduced_tweets()"
   ]
  },
  {
   "cell_type": "code",
   "execution_count": 12,
   "metadata": {},
   "outputs": [
    {
     "name": "stdout",
     "output_type": "stream",
     "text": [
      "<class 'list'>\n",
      "597\n"
     ]
    }
   ],
   "source": [
    "# user_tweets -> List of users, per user a list of ReducedStatus, per ReducedStatus, user_id, text, created_at\n",
    "print(type(user_tweets[0]))\n",
    "print(len(user_tweets[0]))"
   ]
  },
  {
   "cell_type": "code",
   "execution_count": 132,
   "metadata": {},
   "outputs": [],
   "source": [
    "def hist_analysis(values, bins=50, title=\"\", time=False, **args):\n",
    "    # Pass additional args for hist via **args\n",
    "    plt.hist(values, bins=bins, label='#', zorder=1, **args)\n",
    "    plt.title(title)\n",
    "    plt.axvline(stat.median(values), label='Median', linestyle='--', color=\"r\", zorder=3)\n",
    "    plt.axvline(stat.mean(values), label='Mean', linestyle='--', color=\"#103000\", zorder=4)\n",
    "    if time:\n",
    "        # Set x labels as hours in the day\n",
    "        plt.xticks(np.arange(12)*120, [str(x*2) for x in np.arange(12)])\n",
    "    plt.legend()\n",
    "    plt.show()\n",
    "    print(\"Amount Values: \",  len(values))\n",
    "    print(\"Mean: \", stat.mean(values))\n",
    "    print(\"Median: \", stat.median(values))\n",
    "    print(\"Highest: \", max(values))\n",
    "    print(\"Lowest: \", min(values))"
   ]
  },
  {
   "cell_type": "code",
   "execution_count": 139,
   "metadata": {},
   "outputs": [
    {
     "name": "stdout",
     "output_type": "stream",
     "text": [
      "Number of Tweets: 1809681\n"
     ]
    },
    {
     "data": {
      "image/png": "[encoded data removed]",
      "text/plain": [
       "<Figure size 432x288 with 1 Axes>"
      ]
     },
     "metadata": {
      "needs_background": "light"
     },
     "output_type": "display_data"
    },
    {
     "name": "stdout",
     "output_type": "stream",
     "text": [
      "Amount Values:  9384\n",
      "Mean:  192.8475063938619\n",
      "Median:  84.5\n",
      "Highest:  3241\n",
      "Lowest:  0\n"
     ]
    },
    {
     "data": {
      "image/png": "[encoded data removed]",
      "text/plain": [
       "<Figure size 432x288 with 1 Axes>"
      ]
     },
     "metadata": {
      "needs_background": "light"
     },
     "output_type": "display_data"
    },
    {
     "name": "stdout",
     "output_type": "stream",
     "text": [
      "Amount Values:  5065\n",
      "Mean:  33.58420533070089\n",
      "Median:  27\n",
      "Highest:  99\n",
      "Lowest:  0\n"
     ]
    }
   ],
   "source": [
    "# Number of tweets per user Analysis\n",
    "num_tweets_per_user = [len(timeline) for timeline in user_tweets]\n",
    "print(\"Number of Tweets:\", sum(num_tweets_per_user))\n",
    "hist_analysis(num_tweets_per_user, title=\"Number of tweets per user\")\n",
    "\n",
    "num_tweets_sub_100 = [number for number in num_tweets_per_user if number < 100]\n",
    "hist_analysis(num_tweets_sub_100, title=\"Number of tweets per user, where #tweets < 100\")\n",
    "\n",
    "# I think there was a problem-ish in the code for checking:\n",
    "# In good user: if len(days_until) > 0 and days_until[0] > 7: return False\n",
    "# Would not return false if len(days_until) == 0, so I think this is why users without tweet actions came through..."
   ]
  },
  {
   "cell_type": "code",
   "execution_count": 140,
   "metadata": {
    "scrolled": true
   },
   "outputs": [
    {
     "data": {
      "image/png": "[encoded data removed]",
      "text/plain": [
       "<Figure size 432x288 with 1 Axes>"
      ]
     },
     "metadata": {
      "needs_background": "light"
     },
     "output_type": "display_data"
    },
    {
     "name": "stdout",
     "output_type": "stream",
     "text": [
      "Amount Values:  1809681\n",
      "Mean:  806.9817929237253\n",
      "Median:  808\n",
      "Highest:  1439\n",
      "Lowest:  0\n"
     ]
    }
   ],
   "source": [
    "# Time analysis:\n",
    "min_passed_all_users = []\n",
    "for cur_user in user_tweets:\n",
    "    # Distribution over minutes after 00:00\n",
    "    min_passed_all_users += [tweet.created_at.hour * 60 + tweet.created_at.minute for tweet in cur_user]\n",
    "\n",
    "hist_analysis(min_passed_all_users, bins=48, time=True)"
   ]
  },
  {
   "cell_type": "code",
   "execution_count": 178,
   "metadata": {},
   "outputs": [
    {
     "data": {
      "image/png": "[encoded data removed]",
      "text/plain": [
       "<Figure size 432x288 with 1 Axes>"
      ]
     },
     "metadata": {
      "needs_background": "light"
     },
     "output_type": "display_data"
    },
    {
     "name": "stdout",
     "output_type": "stream",
     "text": [
      "Amount Values:  1809681\n",
      "Mean:  83.64268177651199\n",
      "Median:  104\n",
      "Highest:  140\n",
      "Lowest:  0\n"
     ]
    }
   ],
   "source": [
    "# Twitters max char lenght is 140, but will be cut to 117 if tweet is too long. So can be values between 140 and 117.\n",
    "# Lowest 0 -> Video or so ...\n",
    "# Tweets above lenght 140 are chars that are saved weird, e.g. &gt; is > or &lt; is <\n",
    "# veeeery manual preprocessing, to replace <, >, &\n",
    "text_lenghts = []\n",
    "for user in user_tweets:\n",
    "    lenghts = [len(tweet.text.split(\"https\")[0].replace(\"&gt;\", \">\").replace(\"&lt;\", \"<\").replace(\"&amp;\", \"&\")) for tweet in user]\n",
    "    for idx, ln in enumerate(lenghts):\n",
    "        if ln > 140:\n",
    "            print(ln, user[idx].text.split(\"https\")[0])\n",
    "    text_lenghts += lenghts\n",
    "hist_analysis(text_lenghts, bins=50)"
   ]
  },
  {
   "cell_type": "code",
   "execution_count": null,
   "metadata": {},
   "outputs": [],
   "source": []
  }
 ],
 "metadata": {
  "kernelspec": {
   "display_name": "Ethics",
   "language": "python",
   "name": "ethics"
  },
  "language_info": {
   "codemirror_mode": {
    "name": "ipython",
    "version": 3
   },
   "file_extension": ".py",
   "mimetype": "text/x-python",
   "name": "python",
   "nbconvert_exporter": "python",
   "pygments_lexer": "ipython3",
   "version": "3.8.2"
  }
 },
 "nbformat": 4,
 "nbformat_minor": 4
}
