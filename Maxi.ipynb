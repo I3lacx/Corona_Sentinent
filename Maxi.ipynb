{
 "cells": [
  {
   "cell_type": "code",
   "execution_count": 1,
   "metadata": {},
   "outputs": [
    {
     "data": {
      "text/plain": [
       "'\\nMaxis Notebook for testing\\n\\n'"
      ]
     },
     "execution_count": 1,
     "metadata": {},
     "output_type": "execute_result"
    }
   ],
   "source": [
    "\"\"\"\n",
    "Maxis Notebook for testing\n",
    "\n",
    "\"\"\""
   ]
  },
  {
   "cell_type": "code",
   "execution_count": 2,
   "metadata": {},
   "outputs": [],
   "source": [
    "# Must have imports\n",
    "import helper\n",
    "from analyzer import Analyzer\n",
    "from crawler import Crawler\n",
    "from plotter import Plotter\n",
    "from model import TextBlob\n"
   ]
  },
  {
   "cell_type": "code",
   "execution_count": 3,
   "metadata": {},
   "outputs": [],
   "source": [
    "# Extra imports\n",
    "import datetime\n",
    "import numpy as np"
   ]
  },
  {
   "cell_type": "code",
   "execution_count": 4,
   "metadata": {},
   "outputs": [],
   "source": [
    "# Sample Config\n",
    "config = {\n",
    "\t\"user_auth\": False, # autheticate as user or application\n",
    "    \"search\": {\n",
    "        \"location\": \"darmstadt\",\t# based on helper.GEOCODES dictionary\n",
    "        \"radius\": 100, # optional default to 100\n",
    "        \"query\": ['corona'], # query for searching (str array), either query or location has to be not empty\n",
    "        \"max_searches\": 1000, # Default: 1000 max amount of searches \n",
    "        \"num_results\": 100, # number of results with defined filter options\n",
    "        \"rate_limit\": True,  # Default True: to turn off rate limit prints\n",
    "        \"filter\": { # Filter applies to search\n",
    "            \"not_reply\": False, # Filters for not replies when true, does nothing when false\n",
    "            \"not_retweet\": False, # Filters for not retweets when true, does nothing when false\n",
    "            \"until\": datetime.datetime(2020, 6, 1), # None or datetime (e.g. datetime.datetime(2020, 5, 20))\n",
    "        }\n",
    "    },\n",
    "\t\"get_user\": { # Optional, only when querying for users\n",
    "\t\t\"good_user\": False, # mandatory\n",
    "\t\t\"search_type\": \"recent_user\", # 'recent_user', 'recent_retweeted_user'\n",
    "\t\t\"num_users\": 5, # mandatory\n",
    "\t},\n",
    "\n",
    "\t\"plot\": {\n",
    "\t\t\"title\": \"Testing\",\n",
    "\t}\n",
    "}\n"
   ]
  },
  {
   "cell_type": "code",
   "execution_count": 5,
   "metadata": {},
   "outputs": [],
   "source": [
    "# Load configs and init models\n",
    "config = helper.init_config(config)\n",
    "\n",
    "modl = TextBlob()\n",
    "craw = Crawler(config)\n",
    "anal = Analyzer(config, modl)\n",
    "plot = Plotter(config)"
   ]
  },
  {
   "cell_type": "code",
   "execution_count": 6,
   "metadata": {},
   "outputs": [
    {
     "name": "stdout",
     "output_type": "stream",
     "text": [
      "remaining requests: 431\n",
      "tweets remaining: ~ 6465\n",
      "reset at: 2020-06-15 18:34:21\n",
      "reset in: 01:32\n"
     ]
    }
   ],
   "source": [
    "# TODO find posts with high sentiment  \n",
    "users = craw.get_users()"
   ]
  },
  {
   "cell_type": "code",
   "execution_count": 7,
   "metadata": {},
   "outputs": [
    {
     "name": "stdout",
     "output_type": "stream",
     "text": [
      "Checked Tweets: 100\n",
      "remaining requests: 424\n",
      "tweets remaining: ~ 6360\n",
      "reset at: 2020-06-15 18:34:21\n",
      "reset in: 01:30\n",
      "Checked Tweets: 34\n",
      "remaining requests: 1147\n",
      "tweets remaining: ~ 17205\n",
      "reset at: 2020-06-15 18:35:22\n",
      "reset in: 02:31\n"
     ]
    },
    {
     "data": {
      "text/plain": [
       "33"
      ]
     },
     "execution_count": 7,
     "metadata": {},
     "output_type": "execute_result"
    }
   ],
   "source": [
    "tweets = craw.get_tweets()\n",
    "tweets = craw.get_timeline(users[0])\n",
    "len(tweets)"
   ]
  },
  {
   "cell_type": "code",
   "execution_count": 8,
   "metadata": {},
   "outputs": [],
   "source": [
    "filename = \"saved_data/test.json\"\n",
    "craw.save_tweets(tweets, filename)"
   ]
  },
  {
   "cell_type": "code",
   "execution_count": 9,
   "metadata": {},
   "outputs": [],
   "source": [
    "tweets = craw.load_tweet(filename)"
   ]
  },
  {
   "cell_type": "code",
   "execution_count": 10,
   "metadata": {},
   "outputs": [
    {
     "name": "stdout",
     "output_type": "stream",
     "text": [
      "RT @dbongino: The left is tearing this country to pieces. They won’t stop. \n",
      "\n",
      "Don’t miss my show today for the troubling story. \n",
      "\n",
      "Listen on…\n",
      "RT @ZDFheute: Nach dreimonatiger #Corona-Pause dürfen deutsche \"Test-Touristen\" erstmals wieder nach #Mallorca reisen. Von Mitarbeitern ihr…\n",
      "RT @Mike_Pence: America is coming back better than ever! See you tomorrow, Iowa! https://t.co/idEfJkSmLs\n",
      "RT @FLOTUS: 1/2 Educate your children about the women's suffrage movement while encouraging their creativity with my 19th Amendment project…\n"
     ]
    }
   ],
   "source": [
    "print(tweets[0].text)\n",
    "print(tweets[1].text)\n",
    "print(tweets[2].text)\n",
    "print(tweets[3].text)"
   ]
  }
 ],
 "metadata": {
  "kernelspec": {
   "display_name": "Ethics",
   "language": "python",
   "name": "ethics"
  },
  "language_info": {
   "codemirror_mode": {
    "name": "ipython",
    "version": 3
   },
   "file_extension": ".py",
   "mimetype": "text/x-python",
   "name": "python",
   "nbconvert_exporter": "python",
   "pygments_lexer": "ipython3",
   "version": "3.8.2"
  }
 },
 "nbformat": 4,
 "nbformat_minor": 4
}
